{
 "cells": [
  {
   "cell_type": "code",
   "execution_count": 1,
   "id": "249e7d32-f582-495d-83a2-6621ff24d414",
   "metadata": {},
   "outputs": [
    {
     "name": "stdout",
     "output_type": "stream",
     "text": [
      "Five days ago: 2025-02-15\n"
     ]
    }
   ],
   "source": [
    "#Python date1\n",
    "from datetime import datetime, timedelta\n",
    "\n",
    "today = datetime.today()\n",
    "\n",
    "five_days_ago = today - timedelta(days=5)\n",
    "\n",
    "print(\"Five days ago:\", five_days_ago.date())"
   ]
  },
  {
   "cell_type": "code",
   "execution_count": 3,
   "id": "80783ee2-460d-4509-90bf-abd9f6eddfe0",
   "metadata": {},
   "outputs": [
    {
     "name": "stdout",
     "output_type": "stream",
     "text": [
      "Yesterday: 2025-02-19\n",
      "Today: 2025-02-20\n",
      "Tomorrow: 2025-02-21\n"
     ]
    }
   ],
   "source": [
    "#Python date2\n",
    "from datetime import datetime, timedelta\n",
    "\n",
    "today = datetime.today()\n",
    "\n",
    "yesterday = today - timedelta(days=1)\n",
    "tomorrow = today + timedelta(days=1)\n",
    "\n",
    "print(\"Yesterday:\", yesterday.date())\n",
    "print(\"Today:\", today.date())\n",
    "print(\"Tomorrow:\", tomorrow.date())"
   ]
  },
  {
   "cell_type": "code",
   "execution_count": 5,
   "id": "72a50dfe-bf77-4a94-8713-4773f5c77f56",
   "metadata": {},
   "outputs": [
    {
     "name": "stdout",
     "output_type": "stream",
     "text": [
      "Current time without microseconds: 2025-02-20 12:07:40\n"
     ]
    }
   ],
   "source": [
    "#Python date3\n",
    "from datetime import datetime\n",
    "\n",
    "now = datetime.now()\n",
    "\n",
    "now_without_microseconds = now.replace(microsecond=0)\n",
    "\n",
    "print(\"Current time without microseconds:\", now_without_microseconds)"
   ]
  },
  {
   "cell_type": "code",
   "execution_count": 7,
   "id": "07d622b0-f637-48a1-a327-54c967e49d07",
   "metadata": {},
   "outputs": [
    {
     "name": "stdout",
     "output_type": "stream",
     "text": [
      "Difference in seconds: 94500.0\n"
     ]
    }
   ],
   "source": [
    "#Python date4\n",
    "from datetime import datetime\n",
    "\n",
    "date1 = datetime(2025, 2, 15, 10, 30, 0)\n",
    "date2 = datetime(2025, 2, 16, 12, 45, 0)\n",
    "\n",
    "time_difference = date2 - date1\n",
    "\n",
    "seconds_difference = time_difference.total_seconds()\n",
    "\n",
    "print(\"Difference in seconds:\", seconds_difference)"
   ]
  },
  {
   "cell_type": "code",
   "execution_count": 9,
   "id": "7065286c-060f-451a-9e4f-f98f8da22cb6",
   "metadata": {},
   "outputs": [
    {
     "name": "stdout",
     "output_type": "stream",
     "text": [
      "Squares of numbers up to 10\n",
      "1\n",
      "4\n",
      "9\n",
      "16\n",
      "25\n",
      "36\n",
      "49\n",
      "64\n",
      "81\n",
      "100\n"
     ]
    }
   ],
   "source": [
    "#Python iterators and generators1\n",
    "def squares_up_to_n(N):\n",
    "    for i in range(1, N + 1):\n",
    "        yield i * i\n",
    "\n",
    "N = 10 \n",
    "print(\"Squares of numbers up to\", N)\n",
    "for square in squares_up_to_n(N):\n",
    "    print(square)"
   ]
  },
  {
   "cell_type": "code",
   "execution_count": 11,
   "id": "8fb4dc67-6bfd-4df6-a198-015c8522f698",
   "metadata": {},
   "outputs": [
    {
     "name": "stdin",
     "output_type": "stream",
     "text": [
      "Enter a number (n):  24\n"
     ]
    },
    {
     "name": "stdout",
     "output_type": "stream",
     "text": [
      "0, 2, 4, 6, 8, 10, 12, 14, 16, 18, 20, 22, 24\n"
     ]
    }
   ],
   "source": [
    "#Python iterators and generators2\n",
    "def even_numbers_up_to_n(n):\n",
    "    for i in range(0, n+1, 2):\n",
    "        yield i\n",
    "\n",
    "n = int(input(\"Enter a number (n): \"))\n",
    "\n",
    "even_numbers = even_numbers_up_to_n(n)\n",
    "print(\", \".join(str(num) for num in even_numbers))"
   ]
  },
  {
   "cell_type": "code",
   "execution_count": 13,
   "id": "d90127e5-ed13-46de-b6dd-e37ace320741",
   "metadata": {},
   "outputs": [
    {
     "name": "stdin",
     "output_type": "stream",
     "text": [
      "Enter a number (n):  45\n"
     ]
    },
    {
     "name": "stdout",
     "output_type": "stream",
     "text": [
      "Numbers divisible by 3 and 4 between 0 and 45\n",
      "0\n",
      "12\n",
      "24\n",
      "36\n"
     ]
    }
   ],
   "source": [
    "#Python iterators and generators3\n",
    "def divisible_by_3_and_4(n):\n",
    "    for i in range(0, n + 1):\n",
    "        if i % 3 == 0 and i % 4 == 0:\n",
    "            yield i\n",
    "\n",
    "n = int(input(\"Enter a number (n): \"))\n",
    "print(\"Numbers divisible by 3 and 4 between 0 and\", n)\n",
    "for num in divisible_by_3_and_4(n):\n",
    "    print(num)"
   ]
  },
  {
   "cell_type": "code",
   "execution_count": 15,
   "id": "19b8122c-fdf7-42a5-8c6b-cdd7944f1e74",
   "metadata": {},
   "outputs": [
    {
     "name": "stdin",
     "output_type": "stream",
     "text": [
      "Enter the starting number (a):  2\n",
      "Enter the ending number (b):  6\n"
     ]
    },
    {
     "name": "stdout",
     "output_type": "stream",
     "text": [
      "Squares of numbers from 2 to 6:\n",
      "4\n",
      "9\n",
      "16\n",
      "25\n",
      "36\n"
     ]
    }
   ],
   "source": [
    "#Python iterators and generators4\n",
    "def squares(a, b):\n",
    "    for i in range(a, b + 1):\n",
    "        yield i * i\n",
    "\n",
    "a = int(input(\"Enter the starting number (a): \"))\n",
    "b = int(input(\"Enter the ending number (b): \"))\n",
    "\n",
    "print(f\"Squares of numbers from {a} to {b}:\")\n",
    "for square in squares(a, b):\n",
    "    print(square)"
   ]
  },
  {
   "cell_type": "code",
   "execution_count": 17,
   "id": "93cc31d7-f0a1-4cf6-8648-c1b9d4471a7f",
   "metadata": {},
   "outputs": [
    {
     "name": "stdin",
     "output_type": "stream",
     "text": [
      "Enter a number (n):  6\n"
     ]
    },
    {
     "name": "stdout",
     "output_type": "stream",
     "text": [
      "Counting down from 6\n",
      "6\n",
      "5\n",
      "4\n",
      "3\n",
      "2\n",
      "1\n",
      "0\n"
     ]
    }
   ],
   "source": [
    "#Python iterators and generators5\n",
    "def countdown(n):\n",
    "    while n >= 0:\n",
    "        yield n\n",
    "        n -= 1\n",
    "\n",
    "n = int(input(\"Enter a number (n): \"))\n",
    "print(\"Counting down from\", n)\n",
    "for number in countdown(n):\n",
    "    print(number)"
   ]
  },
  {
   "cell_type": "code",
   "execution_count": 19,
   "id": "3337f4eb-013e-43a7-ac6b-4bee8980bf9a",
   "metadata": {},
   "outputs": [
    {
     "name": "stdout",
     "output_type": "stream",
     "text": [
      "Degree: 15\n",
      "Radian: 0.261799\n"
     ]
    }
   ],
   "source": [
    "#Python math1\n",
    "import math\n",
    "\n",
    "degree = 15\n",
    "\n",
    "radian = math.radians(degree)\n",
    "\n",
    "print(f\"Degree: {degree}\")\n",
    "print(f\"Radian: {radian:.6f}\")"
   ]
  },
  {
   "cell_type": "code",
   "execution_count": 21,
   "id": "b633ac34-d0a3-4038-a3a8-40c3cd158136",
   "metadata": {},
   "outputs": [
    {
     "name": "stdout",
     "output_type": "stream",
     "text": [
      "Height: 5\n",
      "Base, first value: 5\n",
      "Base, second value: 6\n",
      "Area of trapezoid: 27.5\n"
     ]
    }
   ],
   "source": [
    "#Python math2\n",
    "height = 5\n",
    "base1 = 5\n",
    "base2 = 6\n",
    "\n",
    "area_trapezoid = (base1 + base2) * height / 2\n",
    "\n",
    "print(f\"Height: {height}\")\n",
    "print(f\"Base, first value: {base1}\")\n",
    "print(f\"Base, second value: {base2}\")\n",
    "print(f\"Area of trapezoid: {area_trapezoid}\")"
   ]
  },
  {
   "cell_type": "code",
   "execution_count": 23,
   "id": "a658d6c1-6dda-403a-ad60-3a6f7a269a44",
   "metadata": {},
   "outputs": [
    {
     "name": "stdin",
     "output_type": "stream",
     "text": [
      "Enter the number of sides:  5\n",
      "Enter the length of a side:  6\n"
     ]
    },
    {
     "name": "stdout",
     "output_type": "stream",
     "text": [
      "The area of the polygon is: 61.93718642120281\n"
     ]
    }
   ],
   "source": [
    "#Python math3\n",
    "import math\n",
    "\n",
    "num_sides = int(input(\"Enter the number of sides: \"))\n",
    "side_length = float(input(\"Enter the length of a side: \"))\n",
    "\n",
    "area_polygon = (num_sides * side_length**2) / (4 * math.tan(math.pi / num_sides))\n",
    "\n",
    "print(f\"The area of the polygon is: {area_polygon}\")"
   ]
  },
  {
   "cell_type": "code",
   "execution_count": 25,
   "id": "f66c5f04-cf83-48ab-b6fa-52262d4a3db0",
   "metadata": {},
   "outputs": [
    {
     "name": "stdout",
     "output_type": "stream",
     "text": [
      "Length of base: 5\n",
      "Height of parallelogram: 6\n",
      "Area of parallelogram: 30\n"
     ]
    }
   ],
   "source": [
    "#Python math4\n",
    "base = 5\n",
    "height_parallelogram = 6\n",
    "\n",
    "area_parallelogram = base * height_parallelogram\n",
    "\n",
    "print(f\"Length of base: {base}\")\n",
    "print(f\"Height of parallelogram: {height_parallelogram}\")\n",
    "print(f\"Area of parallelogram: {area_parallelogram}\")"
   ]
  }
 ],
 "metadata": {
  "kernelspec": {
   "display_name": "Python [conda env:base] *",
   "language": "python",
   "name": "conda-base-py"
  },
  "language_info": {
   "codemirror_mode": {
    "name": "ipython",
    "version": 3
   },
   "file_extension": ".py",
   "mimetype": "text/x-python",
   "name": "python",
   "nbconvert_exporter": "python",
   "pygments_lexer": "ipython3",
   "version": "3.12.7"
  }
 },
 "nbformat": 4,
 "nbformat_minor": 5
}
